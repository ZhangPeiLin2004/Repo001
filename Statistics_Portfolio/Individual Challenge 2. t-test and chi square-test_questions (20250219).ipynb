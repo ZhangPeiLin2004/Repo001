{
 "cells": [
  {
   "cell_type": "markdown",
   "id": "73fdd401",
   "metadata": {},
   "source": [
    "***\n",
    "\n",
    "# Individual Challenge 2: t-test and chi square-test\n",
    "\n",
    "This notebook begins with examples of a t-test and a chi-square test. After that, you'll move on to the individual challenge, where you'll apply these tests yourself and answer three related questions.\n",
    "\n",
    "***"
   ]
  },
  {
   "cell_type": "markdown",
   "id": "cc5d9615",
   "metadata": {},
   "source": [
    "***\n",
    "\n",
    "## The example part\n",
    "\n",
    "***"
   ]
  },
  {
   "cell_type": "markdown",
   "id": "866b9df7",
   "metadata": {},
   "source": [
    "### Example t-test"
   ]
  },
  {
   "cell_type": "markdown",
   "id": "233f481c",
   "metadata": {},
   "source": [
    "The dataset used in this example originates from the study _Framing and Behavior Change_ by Nurit Nobel (2020). The research focused on smokers participating in a smoking cessation program through a mobile application. As part of the study, the researcher deliberately altered the framing of a welcome message highlighting a specific effect of smoking. Participants were randomly assigned to one of five groups: benchmark, money-gain (MG), money-loss (ML), time-gain (TG), or time-loss (TL)."
   ]
  },
  {
   "cell_type": "code",
   "execution_count": 39,
   "id": "85e1d20a",
   "metadata": {},
   "outputs": [
    {
     "data": {
      "text/html": [
       "<div>\n",
       "<style scoped>\n",
       "    .dataframe tbody tr th:only-of-type {\n",
       "        vertical-align: middle;\n",
       "    }\n",
       "\n",
       "    .dataframe tbody tr th {\n",
       "        vertical-align: top;\n",
       "    }\n",
       "\n",
       "    .dataframe thead th {\n",
       "        text-align: right;\n",
       "    }\n",
       "</style>\n",
       "<table border=\"1\" class=\"dataframe\">\n",
       "  <thead>\n",
       "    <tr style=\"text-align: right;\">\n",
       "      <th></th>\n",
       "      <th>user_id</th>\n",
       "      <th>habit_program_id</th>\n",
       "      <th>registered_date</th>\n",
       "      <th>probably_fake</th>\n",
       "      <th>gender</th>\n",
       "      <th>age</th>\n",
       "      <th>has_quit</th>\n",
       "      <th>has_reduced_habit</th>\n",
       "      <th>number_of_daily_cigarettes_before</th>\n",
       "      <th>number_of_daily_cigarettes_after</th>\n",
       "      <th>quit_from_before</th>\n",
       "      <th>exp_group</th>\n",
       "      <th>group</th>\n",
       "    </tr>\n",
       "  </thead>\n",
       "  <tbody>\n",
       "    <tr>\n",
       "      <th>0</th>\n",
       "      <td>390977248</td>\n",
       "      <td>390977502</td>\n",
       "      <td>08/05/20</td>\n",
       "      <td>False</td>\n",
       "      <td>FEMALE</td>\n",
       "      <td>35.00.00</td>\n",
       "      <td>True</td>\n",
       "      <td>NaN</td>\n",
       "      <td>18.0</td>\n",
       "      <td>0.0</td>\n",
       "      <td>True</td>\n",
       "      <td>baseline</td>\n",
       "      <td>Benchmark</td>\n",
       "    </tr>\n",
       "    <tr>\n",
       "      <th>1</th>\n",
       "      <td>391695433</td>\n",
       "      <td>391695687</td>\n",
       "      <td>10/05/20</td>\n",
       "      <td>False</td>\n",
       "      <td>FEMALE</td>\n",
       "      <td>33.00.00</td>\n",
       "      <td>False</td>\n",
       "      <td>False</td>\n",
       "      <td>10.0</td>\n",
       "      <td>NaN</td>\n",
       "      <td>False</td>\n",
       "      <td>baseline</td>\n",
       "      <td>Benchmark</td>\n",
       "    </tr>\n",
       "    <tr>\n",
       "      <th>2</th>\n",
       "      <td>392220070</td>\n",
       "      <td>392220324</td>\n",
       "      <td>11/05/20</td>\n",
       "      <td>False</td>\n",
       "      <td>FEMALE</td>\n",
       "      <td>24.00.00</td>\n",
       "      <td>True</td>\n",
       "      <td>True</td>\n",
       "      <td>12.0</td>\n",
       "      <td>0.0</td>\n",
       "      <td>False</td>\n",
       "      <td>baseline</td>\n",
       "      <td>Benchmark</td>\n",
       "    </tr>\n",
       "    <tr>\n",
       "      <th>3</th>\n",
       "      <td>392887074</td>\n",
       "      <td>392887328</td>\n",
       "      <td>11/05/20</td>\n",
       "      <td>False</td>\n",
       "      <td>FEMALE</td>\n",
       "      <td>19.00</td>\n",
       "      <td>True</td>\n",
       "      <td>NaN</td>\n",
       "      <td>4.0</td>\n",
       "      <td>NaN</td>\n",
       "      <td>False</td>\n",
       "      <td>TL</td>\n",
       "      <td>Nudge</td>\n",
       "    </tr>\n",
       "    <tr>\n",
       "      <th>4</th>\n",
       "      <td>393173586</td>\n",
       "      <td>393173840</td>\n",
       "      <td>12/05/20</td>\n",
       "      <td>False</td>\n",
       "      <td>FEMALE</td>\n",
       "      <td>30.00.00</td>\n",
       "      <td>False</td>\n",
       "      <td>False</td>\n",
       "      <td>20.0</td>\n",
       "      <td>NaN</td>\n",
       "      <td>False</td>\n",
       "      <td>baseline</td>\n",
       "      <td>Benchmark</td>\n",
       "    </tr>\n",
       "  </tbody>\n",
       "</table>\n",
       "</div>"
      ],
      "text/plain": [
       "     user_id  habit_program_id registered_date  probably_fake  gender  \\\n",
       "0  390977248         390977502        08/05/20          False  FEMALE   \n",
       "1  391695433         391695687        10/05/20          False  FEMALE   \n",
       "2  392220070         392220324        11/05/20          False  FEMALE   \n",
       "3  392887074         392887328        11/05/20          False  FEMALE   \n",
       "4  393173586         393173840        12/05/20          False  FEMALE   \n",
       "\n",
       "        age  has_quit has_reduced_habit  number_of_daily_cigarettes_before  \\\n",
       "0  35.00.00      True               NaN                               18.0   \n",
       "1  33.00.00     False             False                               10.0   \n",
       "2  24.00.00      True              True                               12.0   \n",
       "3     19.00      True               NaN                                4.0   \n",
       "4  30.00.00     False             False                               20.0   \n",
       "\n",
       "   number_of_daily_cigarettes_after  quit_from_before exp_group      group  \n",
       "0                               0.0              True  baseline  Benchmark  \n",
       "1                               NaN             False  baseline  Benchmark  \n",
       "2                               0.0             False  baseline  Benchmark  \n",
       "3                               NaN             False        TL      Nudge  \n",
       "4                               NaN             False  baseline  Benchmark  "
      ]
     },
     "execution_count": 39,
     "metadata": {},
     "output_type": "execute_result"
    }
   ],
   "source": [
    "# Importing the data\n",
    "import pandas as pd\n",
    "df = pd.read_csv('sample_cssci-2.csv', delimiter=';')\n",
    "df.head(5)"
   ]
  },
  {
   "cell_type": "code",
   "execution_count": 40,
   "id": "05573a18",
   "metadata": {},
   "outputs": [
    {
     "data": {
      "text/html": [
       "<div>\n",
       "<style scoped>\n",
       "    .dataframe tbody tr th:only-of-type {\n",
       "        vertical-align: middle;\n",
       "    }\n",
       "\n",
       "    .dataframe tbody tr th {\n",
       "        vertical-align: top;\n",
       "    }\n",
       "\n",
       "    .dataframe thead th {\n",
       "        text-align: right;\n",
       "    }\n",
       "</style>\n",
       "<table border=\"1\" class=\"dataframe\">\n",
       "  <thead>\n",
       "    <tr style=\"text-align: right;\">\n",
       "      <th></th>\n",
       "      <th>number_of_daily_cigarettes_after</th>\n",
       "      <th>exp_group</th>\n",
       "    </tr>\n",
       "  </thead>\n",
       "  <tbody>\n",
       "    <tr>\n",
       "      <th>50</th>\n",
       "      <td>5.0</td>\n",
       "      <td>MG</td>\n",
       "    </tr>\n",
       "    <tr>\n",
       "      <th>150</th>\n",
       "      <td>NaN</td>\n",
       "      <td>MG</td>\n",
       "    </tr>\n",
       "    <tr>\n",
       "      <th>165</th>\n",
       "      <td>0.0</td>\n",
       "      <td>MG</td>\n",
       "    </tr>\n",
       "    <tr>\n",
       "      <th>220</th>\n",
       "      <td>0.0</td>\n",
       "      <td>MG</td>\n",
       "    </tr>\n",
       "    <tr>\n",
       "      <th>320</th>\n",
       "      <td>NaN</td>\n",
       "      <td>TG</td>\n",
       "    </tr>\n",
       "  </tbody>\n",
       "</table>\n",
       "</div>"
      ],
      "text/plain": [
       "     number_of_daily_cigarettes_after exp_group\n",
       "50                                5.0        MG\n",
       "150                               NaN        MG\n",
       "165                               0.0        MG\n",
       "220                               0.0        MG\n",
       "320                               NaN        TG"
      ]
     },
     "execution_count": 40,
     "metadata": {},
     "output_type": "execute_result"
    }
   ],
   "source": [
    "# Subsetting the dataset\n",
    "df2 = df.loc[df['exp_group'].isin(['TG', 'MG']), ['number_of_daily_cigarettes_after', 'exp_group']]\n",
    "df2.head()"
   ]
  },
  {
   "cell_type": "code",
   "execution_count": 41,
   "id": "a666770d",
   "metadata": {},
   "outputs": [],
   "source": [
    "# Run an independent sample T-test\n",
    "import scipy.stats as stats # statistical tests\n",
    "t_statistic, p_value = stats.ttest_ind(a = df2.loc[df2['exp_group'] == 'TG', 'number_of_daily_cigarettes_after'], # vector of values for TG\n",
    "                                      b = df2.loc[df2['exp_group'] == 'MG', 'number_of_daily_cigarettes_after'], # vector of values for MG\n",
    "                                      alternative = 'two-sided',\n",
    "                                      nan_policy = 'omit')\n",
    "\n",
    "# group 1 data\n",
    "# group 2 data\n",
    "# equal_var - if True (default), perform a standard independent 2 sample test that assumes equal population variances\n",
    "\n",
    "# alternative - defines the alternative hypothesis. The following options are available (default is ‘two-sided’).\n",
    "#   - ‘two-sided’: the mean of the underlying distribution of the sample is different than the given population mean (popmean)\n",
    "#   - ‘less’: the mean of the underlying distribution of the sample is less than the given population mean (popmean)\n",
    "#   - ‘greater’: the mean of the underlying distribution of the sample is greater than the given population mean (popmean)\n",
    "\n",
    "# nan_policy - defines how to handle when input contains nan. The following options are available (default is ‘propagate’)\n",
    "#   - ‘propagate’: returns nan\n",
    "#   - raise’: throws an error\n",
    "#   - 'omit’: performs the calculations ignoring nan values"
   ]
  },
  {
   "cell_type": "code",
   "execution_count": 42,
   "id": "824a4b6d",
   "metadata": {},
   "outputs": [
    {
     "name": "stdout",
     "output_type": "stream",
     "text": [
      "t-statistic: 0.9671529447445474\n",
      "p-value: 0.33375877282002\n"
     ]
    }
   ],
   "source": [
    "# Printing out the results\n",
    "print(f't-statistic: {t_statistic}')\n",
    "print(f'p-value: {p_value}')"
   ]
  },
  {
   "cell_type": "code",
   "execution_count": 43,
   "id": "b20592cb",
   "metadata": {},
   "outputs": [
    {
     "name": "stdout",
     "output_type": "stream",
     "text": [
      "p-value of 0.334 is higher than alpha value of 0.05. \n",
      "The null hypothesis should be retained. \n",
      "The mean values in two groups are not stastically significantly different.\n"
     ]
    }
   ],
   "source": [
    "# Conclusions\n",
    "\n",
    "alpha = 0.05\n",
    "\n",
    "if p_value < alpha:\n",
    "  print(f'p-value of {round(p_value,3)} is lower than the alpha value of {alpha}. \\nThe alternative hypothesis should be accepted. \\\n",
    "\\nThe mean values in two groups are stastically significantly different.')\n",
    "  \n",
    "else:\n",
    "    print(f'p-value of {round(p_value,3)} is higher than alpha value of {alpha}. \\nThe null hypothesis should be retained. \\\n",
    "\\nThe mean values in two groups are not stastically significantly different.')\n",
    "    "
   ]
  },
  {
   "cell_type": "markdown",
   "id": "a5b9d4c9",
   "metadata": {},
   "source": [
    "### Example Chi square-test"
   ]
  },
  {
   "cell_type": "markdown",
   "id": "0962f6ec",
   "metadata": {},
   "source": [
    "Imagine that you are running an experiment where you are interested in the relationship between the \"tone\" of a message and whether people subscribe to a news letter. \n",
    "\n",
    "Independent variable (IV): tone of the message \n",
    "- Convincing\n",
    "- Neutral \n",
    "\n",
    "Dependent variable (DV): whether people subscribed to the newsletter\n",
    "- Subscribed\n",
    "- Not subscribed\n",
    "\n",
    "Your research question:\n",
    "\n",
    "Is the **tone of message on your website** related to the __subscription rate__?\n",
    "\n",
    "H0: The tone of message is __not related__ to the subscription rate\n",
    "\n",
    "Ha: The tone of message is __related__ to the subscription rate"
   ]
  },
  {
   "cell_type": "code",
   "execution_count": 44,
   "id": "f791d659",
   "metadata": {},
   "outputs": [
    {
     "name": "stderr",
     "output_type": "stream",
     "text": [
      "C:\\Users\\19241\\AppData\\Local\\Temp\\ipykernel_20320\\3924012880.py:22: FutureWarning: A value is trying to be set on a copy of a DataFrame or Series through chained assignment using an inplace method.\n",
      "The behavior will change in pandas 3.0. This inplace method will never work because the intermediate object on which we are setting values always behaves as a copy.\n",
      "\n",
      "For example, when doing 'df[col].method(value, inplace=True)', try using 'df.method({col: value}, inplace=True)' or df[col] = df[col].method(value) instead, to perform the operation inplace on the original object.\n",
      "\n",
      "\n",
      "  df['subscription'].replace([0, 1], ['not_subscribed', 'subscribed'], inplace=True) # [old_values], [new_values]\n",
      "C:\\Users\\19241\\AppData\\Local\\Temp\\ipykernel_20320\\3924012880.py:23: FutureWarning: A value is trying to be set on a copy of a DataFrame or Series through chained assignment using an inplace method.\n",
      "The behavior will change in pandas 3.0. This inplace method will never work because the intermediate object on which we are setting values always behaves as a copy.\n",
      "\n",
      "For example, when doing 'df[col].method(value, inplace=True)', try using 'df.method({col: value}, inplace=True)' or df[col] = df[col].method(value) instead, to perform the operation inplace on the original object.\n",
      "\n",
      "\n",
      "  df['message'].replace([0, 1], ['convincing', 'neutral'], inplace=True)\n"
     ]
    },
    {
     "data": {
      "text/html": [
       "<div>\n",
       "<style scoped>\n",
       "    .dataframe tbody tr th:only-of-type {\n",
       "        vertical-align: middle;\n",
       "    }\n",
       "\n",
       "    .dataframe tbody tr th {\n",
       "        vertical-align: top;\n",
       "    }\n",
       "\n",
       "    .dataframe thead th {\n",
       "        text-align: right;\n",
       "    }\n",
       "</style>\n",
       "<table border=\"1\" class=\"dataframe\">\n",
       "  <thead>\n",
       "    <tr style=\"text-align: right;\">\n",
       "      <th></th>\n",
       "      <th>message</th>\n",
       "      <th>subscription</th>\n",
       "    </tr>\n",
       "  </thead>\n",
       "  <tbody>\n",
       "    <tr>\n",
       "      <th>0</th>\n",
       "      <td>neutral</td>\n",
       "      <td>not_subscribed</td>\n",
       "    </tr>\n",
       "    <tr>\n",
       "      <th>1</th>\n",
       "      <td>neutral</td>\n",
       "      <td>not_subscribed</td>\n",
       "    </tr>\n",
       "    <tr>\n",
       "      <th>2</th>\n",
       "      <td>neutral</td>\n",
       "      <td>not_subscribed</td>\n",
       "    </tr>\n",
       "    <tr>\n",
       "      <th>3</th>\n",
       "      <td>convincing</td>\n",
       "      <td>not_subscribed</td>\n",
       "    </tr>\n",
       "    <tr>\n",
       "      <th>4</th>\n",
       "      <td>neutral</td>\n",
       "      <td>not_subscribed</td>\n",
       "    </tr>\n",
       "  </tbody>\n",
       "</table>\n",
       "</div>"
      ],
      "text/plain": [
       "      message    subscription\n",
       "0     neutral  not_subscribed\n",
       "1     neutral  not_subscribed\n",
       "2     neutral  not_subscribed\n",
       "3  convincing  not_subscribed\n",
       "4     neutral  not_subscribed"
      ]
     },
     "execution_count": 44,
     "metadata": {},
     "output_type": "execute_result"
    }
   ],
   "source": [
    "# Creating values\n",
    "\n",
    "# Generate values form the Bernoulli discrete random variable distribution (0 or 1)\n",
    "\n",
    "# size - number of rounds (sample size)\n",
    "# p - probability of success\n",
    "# n - number of trials within a round\n",
    "\n",
    "import numpy as np\n",
    "\n",
    "np.random.seed(11)\n",
    "\n",
    "message = np.random.binomial(size=1000, n=1, p=0.55) # 0 - convincing, 1 - neutral\n",
    "subscription = np.random.binomial(size=1000, n=1, p=0.1) # 1 - subscribed, 0 - not subscribed\n",
    "\n",
    "# Putting together the dataset\n",
    "\n",
    "df = pd.DataFrame({'message' : message,\n",
    "                   'subscription' : subscription})\n",
    "\n",
    "# Changing numeric values to categories for clarity\n",
    "df['subscription'].replace([0, 1], ['not_subscribed', 'subscribed'], inplace=True) # [old_values], [new_values]\n",
    "df['message'].replace([0, 1], ['convincing', 'neutral'], inplace=True)\n",
    "df.head(5)"
   ]
  },
  {
   "cell_type": "code",
   "execution_count": 45,
   "id": "194b897e",
   "metadata": {},
   "outputs": [
    {
     "data": {
      "text/html": [
       "<div>\n",
       "<style scoped>\n",
       "    .dataframe tbody tr th:only-of-type {\n",
       "        vertical-align: middle;\n",
       "    }\n",
       "\n",
       "    .dataframe tbody tr th {\n",
       "        vertical-align: top;\n",
       "    }\n",
       "\n",
       "    .dataframe thead th {\n",
       "        text-align: right;\n",
       "    }\n",
       "</style>\n",
       "<table border=\"1\" class=\"dataframe\">\n",
       "  <thead>\n",
       "    <tr style=\"text-align: right;\">\n",
       "      <th>subscription</th>\n",
       "      <th>not_subscribed</th>\n",
       "      <th>subscribed</th>\n",
       "      <th>All</th>\n",
       "    </tr>\n",
       "    <tr>\n",
       "      <th>message</th>\n",
       "      <th></th>\n",
       "      <th></th>\n",
       "      <th></th>\n",
       "    </tr>\n",
       "  </thead>\n",
       "  <tbody>\n",
       "    <tr>\n",
       "      <th>convincing</th>\n",
       "      <td>397</td>\n",
       "      <td>54</td>\n",
       "      <td>451</td>\n",
       "    </tr>\n",
       "    <tr>\n",
       "      <th>neutral</th>\n",
       "      <td>506</td>\n",
       "      <td>43</td>\n",
       "      <td>549</td>\n",
       "    </tr>\n",
       "    <tr>\n",
       "      <th>All</th>\n",
       "      <td>903</td>\n",
       "      <td>97</td>\n",
       "      <td>1000</td>\n",
       "    </tr>\n",
       "  </tbody>\n",
       "</table>\n",
       "</div>"
      ],
      "text/plain": [
       "subscription  not_subscribed  subscribed   All\n",
       "message                                       \n",
       "convincing               397          54   451\n",
       "neutral                  506          43   549\n",
       "All                      903          97  1000"
      ]
     },
     "execution_count": 45,
     "metadata": {},
     "output_type": "execute_result"
    }
   ],
   "source": [
    "# Running a crosstab\n",
    "crosstab = pd.crosstab(df['message'], df['subscription'], margins=True)\n",
    "crosstab"
   ]
  },
  {
   "cell_type": "code",
   "execution_count": 46,
   "id": "95d68f7f",
   "metadata": {},
   "outputs": [
    {
     "data": {
      "text/html": [
       "<div>\n",
       "<style scoped>\n",
       "    .dataframe tbody tr th:only-of-type {\n",
       "        vertical-align: middle;\n",
       "    }\n",
       "\n",
       "    .dataframe tbody tr th {\n",
       "        vertical-align: top;\n",
       "    }\n",
       "\n",
       "    .dataframe thead th {\n",
       "        text-align: right;\n",
       "    }\n",
       "</style>\n",
       "<table border=\"1\" class=\"dataframe\">\n",
       "  <thead>\n",
       "    <tr style=\"text-align: right;\">\n",
       "      <th>subscription</th>\n",
       "      <th>not_subscribed</th>\n",
       "      <th>subscribed</th>\n",
       "    </tr>\n",
       "    <tr>\n",
       "      <th>message</th>\n",
       "      <th></th>\n",
       "      <th></th>\n",
       "    </tr>\n",
       "  </thead>\n",
       "  <tbody>\n",
       "    <tr>\n",
       "      <th>convincing</th>\n",
       "      <td>88.0</td>\n",
       "      <td>12.0</td>\n",
       "    </tr>\n",
       "    <tr>\n",
       "      <th>neutral</th>\n",
       "      <td>92.0</td>\n",
       "      <td>8.0</td>\n",
       "    </tr>\n",
       "  </tbody>\n",
       "</table>\n",
       "</div>"
      ],
      "text/plain": [
       "subscription  not_subscribed  subscribed\n",
       "message                                 \n",
       "convincing              88.0        12.0\n",
       "neutral                 92.0         8.0"
      ]
     },
     "execution_count": 46,
     "metadata": {},
     "output_type": "execute_result"
    }
   ],
   "source": [
    "# Running a normalized crosstab\n",
    "# There seems to be a difference in the number of subscriptions per convincing and neutral messages\n",
    "# To see it clearer, the frequencies are turned into proportions by using 'normalize' parameter\n",
    "\n",
    "crosstab_prop = round(pd.crosstab(df['message'], df['subscription'], normalize='index'),2) * 100\n",
    "crosstab_prop\n",
    "\n",
    "# normalize - default False\n",
    "#   - If passed ‘all’ or True, will normalize over all values.\n",
    "#   - If passed ‘index’ will normalize over each row.\n",
    "#   - If passed ‘columns’ will normalize over each column."
   ]
  },
  {
   "cell_type": "code",
   "execution_count": 47,
   "id": "76ba70c2",
   "metadata": {},
   "outputs": [
    {
     "name": "stdout",
     "output_type": "stream",
     "text": [
      "The Chi-squared statistic value: 4.8472290674906136\n",
      "The p-value: 0.30333494360532326\n",
      "Number of degrees of freedom: 4\n"
     ]
    }
   ],
   "source": [
    "# Running Chi-squared test\n",
    "\n",
    "# Unpacking the results of the Chi-squared test into:\n",
    "\n",
    "# cs_statistic - Chi-squared value for the crosstab\n",
    "# p_value - p-value\n",
    "# dof - Degrees of freedom\n",
    "# expected - Expected values under null hypothesis\n",
    "\n",
    "# Important: Note that the input for chi2_contingency() should be a raw crosstab,\n",
    "# not the one with proportions!!!\n",
    "\n",
    "# That's why we're using the object called 'crosstab' created in 2.2,\n",
    "# not 'crosstab_prop' created in 2.4.\n",
    "\n",
    "cs_statistic, p_value, dof, expected = stats.chi2_contingency(crosstab)\n",
    "\n",
    "print(f'The Chi-squared statistic value: {cs_statistic}')\n",
    "print(f'The p-value: {p_value}')\n",
    "print(f'Number of degrees of freedom: {dof}')"
   ]
  },
  {
   "cell_type": "code",
   "execution_count": 48,
   "id": "ab920d71",
   "metadata": {},
   "outputs": [
    {
     "name": "stdout",
     "output_type": "stream",
     "text": [
      "Expected values: [[ 407.253   43.747  451.   ]\n",
      " [ 495.747   53.253  549.   ]\n",
      " [ 903.      97.    1000.   ]]\n"
     ]
    }
   ],
   "source": [
    "# Expected values represent the (theoretical) distribution under the null hypothesis -\n",
    "# that is in case there is no relationship between the type of message and subscription behavior\n",
    "\n",
    "# The expected values are calculated with the formula: (Row Total * Column Total)/N\n",
    "\n",
    "print(f'Expected values: {expected}')"
   ]
  },
  {
   "cell_type": "code",
   "execution_count": 49,
   "id": "83a76db4",
   "metadata": {},
   "outputs": [
    {
     "data": {
      "text/html": [
       "<div>\n",
       "<style scoped>\n",
       "    .dataframe tbody tr th:only-of-type {\n",
       "        vertical-align: middle;\n",
       "    }\n",
       "\n",
       "    .dataframe tbody tr th {\n",
       "        vertical-align: top;\n",
       "    }\n",
       "\n",
       "    .dataframe thead th {\n",
       "        text-align: right;\n",
       "    }\n",
       "</style>\n",
       "<table border=\"1\" class=\"dataframe\">\n",
       "  <thead>\n",
       "    <tr style=\"text-align: right;\">\n",
       "      <th></th>\n",
       "      <th>0</th>\n",
       "      <th>1</th>\n",
       "      <th>All</th>\n",
       "    </tr>\n",
       "  </thead>\n",
       "  <tbody>\n",
       "    <tr>\n",
       "      <th>0</th>\n",
       "      <td>407.253</td>\n",
       "      <td>43.747</td>\n",
       "      <td>451.0</td>\n",
       "    </tr>\n",
       "    <tr>\n",
       "      <th>1</th>\n",
       "      <td>495.747</td>\n",
       "      <td>53.253</td>\n",
       "      <td>549.0</td>\n",
       "    </tr>\n",
       "    <tr>\n",
       "      <th>2</th>\n",
       "      <td>903.000</td>\n",
       "      <td>97.000</td>\n",
       "      <td>1000.0</td>\n",
       "    </tr>\n",
       "  </tbody>\n",
       "</table>\n",
       "</div>"
      ],
      "text/plain": [
       "         0       1     All\n",
       "0  407.253  43.747   451.0\n",
       "1  495.747  53.253   549.0\n",
       "2  903.000  97.000  1000.0"
      ]
     },
     "execution_count": 49,
     "metadata": {},
     "output_type": "execute_result"
    }
   ],
   "source": [
    "# Turn the array \"expected\" (created above) into a dataframe to improve readability\n",
    "# Each list in this array is essentially a row in the dataframe below. We manually name the columns\n",
    "df1 = pd.DataFrame({'0': expected[:, 0], '1': expected[:, 1], 'All': expected[:, 2]})\n",
    "df1"
   ]
  },
  {
   "cell_type": "code",
   "execution_count": 50,
   "id": "805429c4",
   "metadata": {},
   "outputs": [
    {
     "name": "stdout",
     "output_type": "stream",
     "text": [
      "p-value of 0.303 is higher than alpha value of 0.05. \n",
      "The null hypothesis should be retained. \n",
      "The tone of message is not related to the subscription rate.\n"
     ]
    }
   ],
   "source": [
    "# Interpreting the p-value and drawing the conclusions\n",
    "\n",
    "alpha = 0.05 # setting the alpha value of 5%\n",
    "\n",
    "if p_value < alpha:\n",
    "  print(f'p-value of {round(p_value,3)} is lower than the alpha value of {alpha}. \\nThe alternative hypothesis should be accepted. \\\n",
    "\\nThe tone of message is related to the subscription rate.')\n",
    "  \n",
    "else:\n",
    "    print(f'p-value of {round(p_value,3)} is higher than alpha value of {alpha}. \\nThe null hypothesis should be retained. \\\n",
    "\\nThe tone of message is not related to the subscription rate.')\n"
   ]
  },
  {
   "cell_type": "markdown",
   "id": "353ac023",
   "metadata": {},
   "source": [
    "***\n",
    "\n",
    "## The challenge part\n",
    "\n",
    "***"
   ]
  },
  {
   "cell_type": "markdown",
   "id": "6f12cbc6",
   "metadata": {},
   "source": [
    "*** \n",
    "\n",
    "### Part 1: Are older films better (i.e., more highly rated) than recent ones? \n",
    "\n",
    "This question can be addressed with a t-test.\n",
    "\n",
    "***"
   ]
  },
  {
   "cell_type": "markdown",
   "id": "b8f33f16",
   "metadata": {},
   "source": [
    "![film](https://i.guim.co.uk/img/media/722eed5bd8c9ccf308dd9228674225587b8fca59/0_44_2750_1649/master/2750.jpg?width=620&dpr=1&s=none&crop=none)\n",
    "\n",
    "Casablanca (1943) is often hailded as a cinematic masterpiece and one of the greatest films of all time. Read more about it [here](https://www.theguardian.com/film/2022/nov/26/casablanca-80-humphrey-bogart-ingrid-bergman). \n"
   ]
  },
  {
   "cell_type": "code",
   "execution_count": 51,
   "id": "5665df74",
   "metadata": {},
   "outputs": [
    {
     "name": "stdout",
     "output_type": "stream",
     "text": [
      "(42500, 6)\n"
     ]
    },
    {
     "data": {
      "text/html": [
       "<div>\n",
       "<style scoped>\n",
       "    .dataframe tbody tr th:only-of-type {\n",
       "        vertical-align: middle;\n",
       "    }\n",
       "\n",
       "    .dataframe tbody tr th {\n",
       "        vertical-align: top;\n",
       "    }\n",
       "\n",
       "    .dataframe thead th {\n",
       "        text-align: right;\n",
       "    }\n",
       "</style>\n",
       "<table border=\"1\" class=\"dataframe\">\n",
       "  <thead>\n",
       "    <tr style=\"text-align: right;\">\n",
       "      <th></th>\n",
       "      <th>year</th>\n",
       "      <th>rating</th>\n",
       "      <th>num_votes</th>\n",
       "      <th>title</th>\n",
       "      <th>recent_film</th>\n",
       "      <th>awarded</th>\n",
       "    </tr>\n",
       "  </thead>\n",
       "  <tbody>\n",
       "    <tr>\n",
       "      <th>0</th>\n",
       "      <td>1910</td>\n",
       "      <td>5.6</td>\n",
       "      <td>29</td>\n",
       "      <td>The Connecticut Yankee</td>\n",
       "      <td>0</td>\n",
       "      <td>0</td>\n",
       "    </tr>\n",
       "    <tr>\n",
       "      <th>1</th>\n",
       "      <td>1910</td>\n",
       "      <td>4.7</td>\n",
       "      <td>38</td>\n",
       "      <td>Abraham Lincoln's Clemency</td>\n",
       "      <td>0</td>\n",
       "      <td>0</td>\n",
       "    </tr>\n",
       "    <tr>\n",
       "      <th>2</th>\n",
       "      <td>1910</td>\n",
       "      <td>6.7</td>\n",
       "      <td>38</td>\n",
       "      <td>The Sanitarium</td>\n",
       "      <td>0</td>\n",
       "      <td>0</td>\n",
       "    </tr>\n",
       "    <tr>\n",
       "      <th>3</th>\n",
       "      <td>1910</td>\n",
       "      <td>4.7</td>\n",
       "      <td>24</td>\n",
       "      <td>Rip Van Winkle</td>\n",
       "      <td>0</td>\n",
       "      <td>0</td>\n",
       "    </tr>\n",
       "    <tr>\n",
       "      <th>4</th>\n",
       "      <td>1910</td>\n",
       "      <td>5.7</td>\n",
       "      <td>57</td>\n",
       "      <td>Jane Eyre</td>\n",
       "      <td>0</td>\n",
       "      <td>0</td>\n",
       "    </tr>\n",
       "  </tbody>\n",
       "</table>\n",
       "</div>"
      ],
      "text/plain": [
       "   year  rating  num_votes                       title  recent_film  awarded\n",
       "0  1910     5.6         29      The Connecticut Yankee            0        0\n",
       "1  1910     4.7         38  Abraham Lincoln's Clemency            0        0\n",
       "2  1910     6.7         38              The Sanitarium            0        0\n",
       "3  1910     4.7         24              Rip Van Winkle            0        0\n",
       "4  1910     5.7         57                   Jane Eyre            0        0"
      ]
     },
     "execution_count": 51,
     "metadata": {},
     "output_type": "execute_result"
    }
   ],
   "source": [
    "# Import packages and open data\n",
    "import pandas as pd\n",
    "from scipy.stats import ttest_ind\n",
    "df = pd.read_csv('imdb_cssci-2.csv')\n",
    "print(df.shape)\n",
    "df.head()"
   ]
  },
  {
   "cell_type": "code",
   "execution_count": 52,
   "id": "89233541",
   "metadata": {},
   "outputs": [
    {
     "name": "stdout",
     "output_type": "stream",
     "text": [
      "Old film mean: 5.818554789172305\n",
      "New film mean: 5.851980955619792\n"
     ]
    }
   ],
   "source": [
    "# Compare the ratings for two groups \n",
    "old_films = df[df['year'] < 2000]\n",
    "new_films = df[df['year'] >= 2000]\n",
    "\n",
    "print(\"Old film mean:\", old_films['rating'].mean())\n",
    "print(\"New film mean:\", new_films['rating'].mean())"
   ]
  },
  {
   "cell_type": "code",
   "execution_count": 53,
   "id": "24ecba04",
   "metadata": {},
   "outputs": [
    {
     "name": "stdout",
     "output_type": "stream",
     "text": [
      "T-statistic: -2.4878388529352966\n",
      "P-value: 0.012855997864403645\n"
     ]
    }
   ],
   "source": [
    "# Run an independent sample T-test\n",
    "t_stat, p_value = ttest_ind(old_films['rating'], new_films['rating'], nan_policy='omit')\n",
    "print(\"T-statistic:\", t_stat)\n",
    "print(\"P-value:\", p_value)"
   ]
  },
  {
   "cell_type": "markdown",
   "id": "daca6534",
   "metadata": {},
   "source": [
    "***\n",
    "\n",
    "**Interpretaton question 1:** \n",
    "\n",
    "1.1) State your hypotheses. Explain in basic terms why you accept/reject your hypotheses based on your t-test. \n",
    "\n",
    "1.2) Now explain why you accept/reject your hypotheses in a more elaborate way, while extensively demonstrating your mathematical knowledge, and using the terms \"alpha\", \"p-value,\" and \"z-score\" in your answer. \n",
    "\n",
    "1.3) We recommend using a two-sided t-test, as demonstrated in the smoking example above. Why is a two-sided test appropriate for your study comparing older and newer films? Additionally, does using a two-sided test make it easier or more difficult to find a statistically significant difference between the two groups? Explain your reasoning.\n",
    "\n",
    "\n",
    "***"
   ]
  },
  {
   "cell_type": "markdown",
   "id": "4de63e33",
   "metadata": {},
   "source": [
    "Your answer:\n",
    "\n",
    "(1.1)\n",
    "\n",
    "Null Hypothesis (H0):\n",
    "    Null Hypothesis (H0): There is NO difference in the mean IMDb ratings between older films (before 2000) and newer films (2000 and after).\n",
    "\n",
    "Alternative Hypothesis (Ha):\n",
    "    Alternative Hypothesis (Ha): There is A difference in the mean IMDb ratings between the two groups.\n",
    "\n",
    "Based on the results of the t-test, we reject the null hypothesis if the p-value is less than 0.05 (our typical significance level, α = 0.05). (If the p-value is greater than 0.05, we fail to reject the null hypothesis. In our case, for example, the p-value is 0.012 < 0.05, so we reject H₀ and conclude that the average ratings are statistically different between old and new films.)\n",
    "\n",
    "\n",
    "\n",
    "(1.2)\n",
    "\n",
    "We set the significance level α = 0.05, which means we are willing to accept a 5% chance of incorrectly rejecting the null hypothesis (Type I error).\n",
    "\n",
    "Since the p-value is less than alpha (0.0129 < 0.05), we reject the null hypothesis. In practical terms, this means the observed difference in average ratings is statistically significant. The t-statistic behaves similarly to a z-score: the larger absolute value, the further from the expected value under H0, indicating rejecting it.\n",
    "\n",
    "The t-test returns a t-statistic of -2.49, which measures how many standard errors the observed difference is from the hypothesized mean difference (which is 0 under H0).\n",
    "\n",
    "Thus, using formal statistical criteria, we find that IMDb ratings DO differ between older and newer films.\n",
    "\n",
    "(1.3)\n",
    "\n",
    "A two-sided t-test is appropriate here because we are not making a directional claim (e.g., “new films are better than old films” or vice versa). Instead, we are simply testing whether there is any difference between the average ratings of the two groups in EITHER direction.\n",
    "\n",
    "Using a two-sided test is more conservative, meaning it is harder to achieve statistical significance. The total alpha level (duplicated from above, 0.05) is split between BOTH tails of the distribution."
   ]
  },
  {
   "cell_type": "markdown",
   "id": "66bdecde",
   "metadata": {},
   "source": [
    "***\n",
    "\n",
    "### Part 2: Do professionals and audiences agree on what is a good film?\n",
    "\n",
    "***"
   ]
  },
  {
   "cell_type": "markdown",
   "id": "fec4cbe1",
   "metadata": {},
   "source": [
    "![critic](https://www.hollywoodreporter.com/wp-content/uploads/2012/03/movie_theater_crowd_a_l.jpg?w=1440&h=810&crop=1)"
   ]
  },
  {
   "cell_type": "markdown",
   "id": "7716951d",
   "metadata": {},
   "source": [
    "***\n",
    "\n",
    "Different audiences can evaluate and valuate things in a different way. When studying cultural production, it can be useful to make a useful distiction between _professional recognition_ (recognition that comes from other professionals in a field, often experts, who are trained in such an area) and audience recognition (consumers who aren't necessarily experts). \n",
    "\n",
    "This prompts the question: are the two groups agreeing or disagreeing on what is a good film? Something that can be studied with the following two variables. \n",
    "\n",
    "Independent variable (IV): awarded \n",
    "- 1) Film title received an award (indicative of professional recognition)\n",
    "- 0) Film title did not receive a film award\n",
    "\n",
    "Dependent variable (DV): high_rated\n",
    "- 1) Film is highly rated (indicative of audience recognition)\n",
    "- 0) Film is not highly rated\n",
    "\n",
    "Your research question may be:\n",
    "\n",
    "Is the **professional recognition** of films related to **audience recognition**?\n",
    "\n",
    "Your hypotheses:\n",
    "\n",
    "H0: Awards are _not related_ to high ratings\n",
    "\n",
    "Ha: Awards are _related_ to high ratings\n",
    "\n",
    "***\n"
   ]
  },
  {
   "cell_type": "markdown",
   "id": "04089f39",
   "metadata": {},
   "source": [
    "First, we like to create a cutoff point to identify \"highly rated\" films. If film titles have a rating that is higher than 1 standard deviation above the mean rating, then we consider it \"highly rated\". "
   ]
  },
  {
   "cell_type": "code",
   "execution_count": 54,
   "id": "5180f9a2",
   "metadata": {},
   "outputs": [
    {
     "name": "stdout",
     "output_type": "stream",
     "text": [
      "7.0670900497119895\n"
     ]
    }
   ],
   "source": [
    "# Create cutoff point by computing the mean and 1 standard deviation for ratings and add those to each other\n",
    "basic_stats = df.rating.describe().loc[['mean','std']]\n",
    "mean_std = basic_stats['mean'] + basic_stats['std']\n",
    "print(mean_std)"
   ]
  },
  {
   "cell_type": "code",
   "execution_count": 55,
   "id": "3f93457f",
   "metadata": {},
   "outputs": [
    {
     "data": {
      "text/html": [
       "<div>\n",
       "<style scoped>\n",
       "    .dataframe tbody tr th:only-of-type {\n",
       "        vertical-align: middle;\n",
       "    }\n",
       "\n",
       "    .dataframe tbody tr th {\n",
       "        vertical-align: top;\n",
       "    }\n",
       "\n",
       "    .dataframe thead th {\n",
       "        text-align: right;\n",
       "    }\n",
       "</style>\n",
       "<table border=\"1\" class=\"dataframe\">\n",
       "  <thead>\n",
       "    <tr style=\"text-align: right;\">\n",
       "      <th></th>\n",
       "      <th>year</th>\n",
       "      <th>rating</th>\n",
       "      <th>num_votes</th>\n",
       "      <th>title</th>\n",
       "      <th>recent_film</th>\n",
       "      <th>awarded</th>\n",
       "      <th>high_rated</th>\n",
       "    </tr>\n",
       "  </thead>\n",
       "  <tbody>\n",
       "    <tr>\n",
       "      <th>0</th>\n",
       "      <td>1910</td>\n",
       "      <td>5.6</td>\n",
       "      <td>29</td>\n",
       "      <td>The Connecticut Yankee</td>\n",
       "      <td>0</td>\n",
       "      <td>0</td>\n",
       "      <td>0</td>\n",
       "    </tr>\n",
       "    <tr>\n",
       "      <th>1</th>\n",
       "      <td>1910</td>\n",
       "      <td>4.7</td>\n",
       "      <td>38</td>\n",
       "      <td>Abraham Lincoln's Clemency</td>\n",
       "      <td>0</td>\n",
       "      <td>0</td>\n",
       "      <td>0</td>\n",
       "    </tr>\n",
       "    <tr>\n",
       "      <th>2</th>\n",
       "      <td>1910</td>\n",
       "      <td>6.7</td>\n",
       "      <td>38</td>\n",
       "      <td>The Sanitarium</td>\n",
       "      <td>0</td>\n",
       "      <td>0</td>\n",
       "      <td>0</td>\n",
       "    </tr>\n",
       "    <tr>\n",
       "      <th>3</th>\n",
       "      <td>1910</td>\n",
       "      <td>4.7</td>\n",
       "      <td>24</td>\n",
       "      <td>Rip Van Winkle</td>\n",
       "      <td>0</td>\n",
       "      <td>0</td>\n",
       "      <td>0</td>\n",
       "    </tr>\n",
       "    <tr>\n",
       "      <th>4</th>\n",
       "      <td>1910</td>\n",
       "      <td>5.7</td>\n",
       "      <td>57</td>\n",
       "      <td>Jane Eyre</td>\n",
       "      <td>0</td>\n",
       "      <td>0</td>\n",
       "      <td>0</td>\n",
       "    </tr>\n",
       "    <tr>\n",
       "      <th>...</th>\n",
       "      <td>...</td>\n",
       "      <td>...</td>\n",
       "      <td>...</td>\n",
       "      <td>...</td>\n",
       "      <td>...</td>\n",
       "      <td>...</td>\n",
       "      <td>...</td>\n",
       "    </tr>\n",
       "    <tr>\n",
       "      <th>42495</th>\n",
       "      <td>2009</td>\n",
       "      <td>4.8</td>\n",
       "      <td>733</td>\n",
       "      <td>Breaking Point</td>\n",
       "      <td>1</td>\n",
       "      <td>0</td>\n",
       "      <td>0</td>\n",
       "    </tr>\n",
       "    <tr>\n",
       "      <th>42496</th>\n",
       "      <td>2009</td>\n",
       "      <td>8.8</td>\n",
       "      <td>15</td>\n",
       "      <td>Under One Sun</td>\n",
       "      <td>1</td>\n",
       "      <td>0</td>\n",
       "      <td>1</td>\n",
       "    </tr>\n",
       "    <tr>\n",
       "      <th>42497</th>\n",
       "      <td>2009</td>\n",
       "      <td>7.8</td>\n",
       "      <td>20</td>\n",
       "      <td>Taylor's Way</td>\n",
       "      <td>1</td>\n",
       "      <td>1</td>\n",
       "      <td>1</td>\n",
       "    </tr>\n",
       "    <tr>\n",
       "      <th>42498</th>\n",
       "      <td>2009</td>\n",
       "      <td>4.2</td>\n",
       "      <td>419</td>\n",
       "      <td>Babysitters Beware</td>\n",
       "      <td>1</td>\n",
       "      <td>0</td>\n",
       "      <td>0</td>\n",
       "    </tr>\n",
       "    <tr>\n",
       "      <th>42499</th>\n",
       "      <td>2009</td>\n",
       "      <td>4.3</td>\n",
       "      <td>162</td>\n",
       "      <td>Sam Steele and the Junior Detective Agency</td>\n",
       "      <td>1</td>\n",
       "      <td>0</td>\n",
       "      <td>0</td>\n",
       "    </tr>\n",
       "  </tbody>\n",
       "</table>\n",
       "<p>42500 rows × 7 columns</p>\n",
       "</div>"
      ],
      "text/plain": [
       "       year  rating  num_votes                                       title  \\\n",
       "0      1910     5.6         29                      The Connecticut Yankee   \n",
       "1      1910     4.7         38                  Abraham Lincoln's Clemency   \n",
       "2      1910     6.7         38                              The Sanitarium   \n",
       "3      1910     4.7         24                              Rip Van Winkle   \n",
       "4      1910     5.7         57                                   Jane Eyre   \n",
       "...     ...     ...        ...                                         ...   \n",
       "42495  2009     4.8        733                              Breaking Point   \n",
       "42496  2009     8.8         15                               Under One Sun   \n",
       "42497  2009     7.8         20                                Taylor's Way   \n",
       "42498  2009     4.2        419                          Babysitters Beware   \n",
       "42499  2009     4.3        162  Sam Steele and the Junior Detective Agency   \n",
       "\n",
       "       recent_film  awarded  high_rated  \n",
       "0                0        0           0  \n",
       "1                0        0           0  \n",
       "2                0        0           0  \n",
       "3                0        0           0  \n",
       "4                0        0           0  \n",
       "...            ...      ...         ...  \n",
       "42495            1        0           0  \n",
       "42496            1        0           1  \n",
       "42497            1        1           1  \n",
       "42498            1        0           0  \n",
       "42499            1        0           0  \n",
       "\n",
       "[42500 rows x 7 columns]"
      ]
     },
     "execution_count": 55,
     "metadata": {},
     "output_type": "execute_result"
    }
   ],
   "source": [
    "# Create a new binary variable \"high_rated\" based on this cuttoff point\n",
    "df['high_rated'] = np.where(df['rating'] > mean_std,1,0)\n",
    "df"
   ]
  },
  {
   "cell_type": "code",
   "execution_count": 56,
   "id": "e1441915",
   "metadata": {},
   "outputs": [
    {
     "name": "stdout",
     "output_type": "stream",
     "text": [
      "Contingency Table (Awarded vs. Highly Rated):\n",
      "high_rated      0     1\n",
      "awarded                \n",
      "0           30937  3663\n",
      "1            5487  2413\n"
     ]
    }
   ],
   "source": [
    "# Create a crosstab between 'awarded' and 'high_rated'\n",
    "contingency_table = pd.crosstab(df['awarded'], df['high_rated'])\n",
    "print(\"Contingency Table (Awarded vs. Highly Rated):\")\n",
    "print(contingency_table)"
   ]
  },
  {
   "cell_type": "markdown",
   "id": "f4fae14e",
   "metadata": {},
   "source": [
    "***\n",
    "\n",
    "**Interpretaton question 2:** \n",
    "\n",
    "Your Core Lecturer Rens thought it would be a good idea to construct a cutoff point by adding 1 standard deviation to the mean film rating. \n",
    "\n",
    "2.1) What could be the reasoning behind his choice? \n",
    "\n",
    "2.2) Propose an alternative way to construct a cutoff point to identify \"highly rated\" films, and explain why you may want to use this.  \n",
    "\n",
    "\n",
    "***"
   ]
  },
  {
   "cell_type": "markdown",
   "id": "68a7df1a",
   "metadata": {},
   "source": [
    "Your answer:\n",
    "\n",
    "(2.1)\n",
    "\n",
    "z-score thresholding approach, a common way to identify values that are statistically above average in which:\n",
    "\n",
    "    The mean represents the average rating.\n",
    "    The standard deviation tells us how much variation or spread there is in the ratings.\n",
    "    Setting the cutoff at mean + 1 std indicates selecting films that are significantly BETTER rated than most (counting outliers) — only the top ~16% in a roughly normal distribution. (100%/2 - 68%/2 = 16%)\n",
    "\n",
    "(2.2)\n",
    "\n",
    "Use a percentile threshold (top 25%)\n",
    "\n",
    "percentile_75 = df['rating'].quantile(0.75)\n",
    "\n",
    "df['high_rated_alt'] = np.where(df['rating'] > percentile_75, 1, 0)\n",
    "\n",
    "Percentiles are less sensitive to skewed distributions and outliers."
   ]
  },
  {
   "cell_type": "code",
   "execution_count": 57,
   "id": "dbfbd16c",
   "metadata": {},
   "outputs": [
    {
     "name": "stdout",
     "output_type": "stream",
     "text": [
      "Chi-squared Test Results:\n",
      "Chi2 Statistic: 2089.1271\n",
      "Degrees of Freedom: 1\n",
      "P-value: 0.0000\n",
      "\n",
      "Expected Frequencies:\n",
      "[[29653.42117647  4946.57882353]\n",
      " [ 6770.57882353  1129.42117647]]\n"
     ]
    }
   ],
   "source": [
    "# Running Chi-squared test\n",
    "from scipy.stats import chi2_contingency\n",
    "chi2, p, dof, expected = chi2_contingency(contingency_table)\n",
    "print(\"Chi-squared Test Results:\")\n",
    "print(f\"Chi2 Statistic: {chi2:.4f}\")\n",
    "print(f\"Degrees of Freedom: {dof}\")\n",
    "print(f\"P-value: {p:.4f}\")\n",
    "print(\"\\nExpected Frequencies:\")\n",
    "print(expected)"
   ]
  },
  {
   "cell_type": "markdown",
   "id": "55339fbf",
   "metadata": {},
   "source": [
    "***\n",
    "\n",
    "**Interpretaton question 3:** \n",
    "\n",
    "3.1) Shortly explain why you accept/reject your hypotheses. \n",
    "\n",
    "3.2) Now explain the intuition behind the formula that is used to compute the Chi-squared statistic, use the terms \"observed\" and \"expected\" values in your answer, and use the two-way tables (crosstab) that are created above. \n",
    "\n",
    "3.3) Can you suggest another way (different data or methods) with which one could study differences between the evaluations by professionals and more broader audiences? \n",
    "\n",
    "\n",
    "***"
   ]
  },
  {
   "cell_type": "markdown",
   "id": "3149b542",
   "metadata": {},
   "source": [
    "Your answer:\n",
    "\n",
    "(3.1)\n",
    "\n",
    "We reject the null hypothesis (H₀: awards and high ratings are not related), because the p-value is < 0.0001, far below the common alpha level of 0.05.\n",
    "This provides strong evidence that professional recognition (awards) and audience recognition (high ratings) ARE statistically related.\n",
    "\n",
    "\n",
    "(3.2)\n",
    "\n",
    "The formula is:\n",
    "\n",
    "χ^2 = ∑[(𝑂−𝐸)^2/𝐸]\n",
    "\n",
    "𝑂 = Observed frequencies from data\n",
    "\n",
    "𝐸 = Expected frequencies if the two variables (awarded and high_rated) were independent\n",
    "\n",
    "The expected values (e.g., for awarded=1 and high_rated=1) were calculated under the assumption of independence. Large differences between observed and expected values inflate the χ^2 statistic, this case being:\n",
    "\n",
    "(30937-29653.42)^2/29653.42 + (3663-4946.58)^2/4946.58 + (5487-6770.58)^2/6770.58 + (2413-1129.42)^2/1129.42 = 2089.13\n",
    "\n",
    "A strong relationship between awards and high audience ratings.\n",
    "\n",
    "\n",
    "(3.3)\n",
    "\n",
    "Logistic Regression:\n",
    "\n",
    "Use a logistic model to predict high_rated (0 or 1) using awarded as a predictor, giving the odds of being highly rated if awarded (but other data should be, supposedly, collected to be control variables).\n",
    "\n",
    "Correlation Analysis with Continuous Scores:\n",
    "\n",
    "Compute a correlation coefficient (Pearson or Spearman), giving a direct measure of agreement between professional and public evaluations across films, treating both as continuous variables."
   ]
  }
 ],
 "metadata": {
  "kernelspec": {
   "display_name": "Python 3",
   "language": "python",
   "name": "python3"
  },
  "language_info": {
   "codemirror_mode": {
    "name": "ipython",
    "version": 3
   },
   "file_extension": ".py",
   "mimetype": "text/x-python",
   "name": "python",
   "nbconvert_exporter": "python",
   "pygments_lexer": "ipython3",
   "version": "3.11.9"
  }
 },
 "nbformat": 4,
 "nbformat_minor": 5
}
